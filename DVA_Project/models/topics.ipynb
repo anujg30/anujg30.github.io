{
 "cells": [
  {
   "cell_type": "code",
   "execution_count": 1,
   "metadata": {
    "collapsed": false
   },
   "outputs": [],
   "source": [
    "import os, json\n",
    "from nltk.tokenize import RegexpTokenizer\n",
    "from stop_words import get_stop_words\n",
    "from nltk.stem.porter import PorterStemmer\n",
    "import gensim\n",
    "from gensim import corpora, models\n",
    "\n"
   ]
  },
  {
   "cell_type": "code",
   "execution_count": 2,
   "metadata": {
    "collapsed": false
   },
   "outputs": [],
   "source": [
    "tokenizer = RegexpTokenizer(r'\\w+')\n",
    "\n",
    "# create English stop words list\n",
    "en_stop = get_stop_words('en')\n",
    "\n",
    "# Create p_stemmer of class PorterStemmer\n",
    "p_stemmer = PorterStemmer()"
   ]
  },
  {
   "cell_type": "code",
   "execution_count": 13,
   "metadata": {
    "collapsed": false
   },
   "outputs": [],
   "source": [
    "def extractDocuments(chunk = False, docCount=10000):\n",
    "    texts = []\n",
    "    count = 0\n",
    "    for root, dirs, files in os.walk(\".\\Data\", topdown=False):\n",
    "        for reviewFile in files:\n",
    "            splitRoot = []\n",
    "            #Windows : \"//\", Mac \"\\\"\n",
    "            splitRoot = root.rsplit(\"\\\\\",2)\n",
    "            if (len(splitRoot) < 3):\n",
    "               print \"Skipping \",reviewFile\n",
    "                continue\n",
    "            version = splitRoot[2]\n",
    "            packageName = splitRoot[1]\n",
    "            try:\n",
    "                json_data=open(os.path.join(root, reviewFile)).read()\n",
    "                data = json.loads(json_data)\n",
    "                \n",
    "                #Ignore empty files\n",
    "                if isinstance(data, list):\n",
    "                    for reviews in data:\n",
    "                        try:\n",
    "                            comment = reviews['comment']\n",
    "                            timestamp = reviews['timestampMsec']\n",
    "                            \n",
    "                            raw = comment.lower()\n",
    "                            tokens = tokenizer.tokenize(raw)\n",
    "                            \n",
    "                            # remove stop words from tokens\n",
    "                            stopped_tokens = [i for i in tokens if not i in en_stop]\n",
    "                            \n",
    "                            # stem tokens\n",
    "                            stemmed_tokens = [p_stemmer.stem(i) for i in stopped_tokens]\n",
    "                              \n",
    "                            # add tokens to list\n",
    "                            texts.append(stemmed_tokens)\n",
    "                            \n",
    "                        except KeyError as er:\n",
    "                            continue\n",
    "            except (ValueError, IOError, IndexError) as err:\n",
    "                continue\n",
    "            \n",
    "            count = count + 1\n",
    "            if (chunk and count > docCount):\n",
    "                print count, \" documents extracted \"\n",
    "                return texts\n",
    "            \n",
    "    print count, \" documents extracted in total\"\n",
    "    return texts"
   ]
  },
  {
   "cell_type": "code",
   "execution_count": 14,
   "metadata": {
    "collapsed": false
   },
   "outputs": [
    {
     "name": "stdout",
     "output_type": "stream",
     "text": [
      "362555  documents extracted in total\n"
     ]
    }
   ],
   "source": [
    "texts = extractDocuments()"
   ]
  },
  {
   "cell_type": "code",
   "execution_count": 15,
   "metadata": {
    "collapsed": false
   },
   "outputs": [],
   "source": [
    "dictionary = corpora.Dictionary(texts)\n",
    "    \n",
    "# convert tokenized documents into a document-term matrix\n",
    "corpus = [dictionary.doc2bow(text) for text in texts]"
   ]
  },
  {
   "cell_type": "code",
   "execution_count": 19,
   "metadata": {
    "collapsed": false
   },
   "outputs": [
    {
     "name": "stdout",
     "output_type": "stream",
     "text": [
      "Done!\n"
     ]
    }
   ],
   "source": [
    "# generate LDA model\n",
    "ldamodel = gensim.models.ldamodel.LdaModel(corpus, num_topics=10, id2word = dictionary, passes=20)\n",
    "print \"Done!\""
   ]
  },
  {
   "cell_type": "code",
   "execution_count": 20,
   "metadata": {
    "collapsed": false,
    "scrolled": true
   },
   "outputs": [
    {
     "name": "stdout",
     "output_type": "stream",
     "text": [
      "(0, u'0.032*ok + 0.014*home + 0.014*info + 0.014*root + 0.013*photo + 0.011*la + 0.011*audio + 0.010*languag + 0.010*s + 0.010*theme')\n",
      "(1, u'0.180*app + 0.082*great + 0.056*work + 0.046*thank + 0.021*use + 0.014*keep + 0.014*well + 0.011*realli + 0.010*perfect + 0.010*sound')\n",
      "(2, u'0.145*good + 0.143*game + 0.113*love + 0.048*like + 0.040*fun + 0.039*awesom + 0.033*play + 0.033*realli + 0.022*great + 0.016*s')\n",
      "(3, u'0.143*nice + 0.064*cool + 0.062*app + 0.033*applic + 0.023*must + 0.021*wallpap + 0.021*pictur + 0.015*map + 0.015*tv + 0.014*color')\n",
      "(4, u'0.027*add + 0.026*need + 0.021*just + 0.020*like + 0.018*make + 0.018*better + 0.017*bad + 0.015*amaz + 0.015*can + 0.013*s')\n",
      "(5, u'0.044*app + 0.018*use + 0.017*can + 0.017*one + 0.015*s + 0.014*ad + 0.013*like + 0.011*version + 0.010*need + 0.008*phone')\n",
      "(6, u'0.062*use + 0.049*easi + 0.020*help + 0.018*simpl + 0.014*learn + 0.013*word + 0.009*live + 0.009*beauti + 0.009*recommend + 0.009*accur')\n",
      "(7, u'0.029*fix + 0.028*star + 0.027*5 + 0.027*updat + 0.023*work + 0.018*pleas + 0.017*time + 0.017*give + 0.016*2 + 0.015*excel')\n",
      "(8, u'0.026*n + 0.015*c + 0.011*l + 0.011*o + 0.010*ng + 0.010*de + 0.010*m + 0.010*w + 0.009*na + 0.009*b')\n",
      "(9, u'0.115*t + 0.039*can + 0.034*best + 0.028*don + 0.025*game + 0.023*get + 0.021*download + 0.020*u + 0.019*doesn + 0.019*play')\n"
     ]
    }
   ],
   "source": [
    "for top in ldamodel.print_topics():\n",
    "  print top"
   ]
  },
  {
   "cell_type": "code",
   "execution_count": null,
   "metadata": {
    "collapsed": false
   },
   "outputs": [],
   "source": []
  }
 ],
 "metadata": {
  "kernelspec": {
   "display_name": "Python 2",
   "language": "python",
   "name": "python2"
  },
  "language_info": {
   "codemirror_mode": {
    "name": "ipython",
    "version": 2
   },
   "file_extension": ".py",
   "mimetype": "text/x-python",
   "name": "python",
   "nbconvert_exporter": "python",
   "pygments_lexer": "ipython2",
   "version": "2.7.9"
  }
 },
 "nbformat": 4,
 "nbformat_minor": 0
}
